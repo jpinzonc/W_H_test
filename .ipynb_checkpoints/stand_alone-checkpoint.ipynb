{
 "cells": [
  {
   "cell_type": "code",
   "execution_count": 34,
   "metadata": {},
   "outputs": [
    {
     "name": "stdout",
     "output_type": "stream",
     "text": [
      "Testing set Mean Abs Error: 867.05\n",
      "End to end, getting the predictions required 1.133990466594696 minutes\n"
     ]
    }
   ],
   "source": [
    "from time import time\n",
    "start = time()\n",
    "import pandas as pd\n",
    "import numpy as np\n",
    "import sys\n",
    "import tensorflow as tf\n",
    "from tensorflow import keras\n",
    "from tensorflow.keras import layers\n",
    "\n",
    "df = pd.read_csv(r'dataset_00_with_header.csv', low_memory = False)\n",
    "\n",
    "\n",
    "na_cols = pd.DataFrame(df.isnull().sum().sort_values())\n",
    "na_cols.reset_index(drop = False, inplace=True)\n",
    "na_cols.columns = (['feature','num_NaN'])\n",
    "na_cols.loc[:,'tenpct'] = np.where(na_cols.num_NaN > 10000, 'Y', 'N')\n",
    "\n",
    "df1 = df[df.columns[df.columns.isin(na_cols[na_cols.tenpct=='Y'].feature.unique())==False]].dropna().reset_index(drop = True)\n",
    "\n",
    "dic1= {}\n",
    "dic2= {}\n",
    "dic_= {}\n",
    "for column in df1.columns:\n",
    "    unique_ = df1[column].nunique()\n",
    "    if unique_ == 1:\n",
    "        dic1[column] = [unique_]\n",
    "    if unique_ == 2:\n",
    "        dic2[column] = [unique_]\n",
    "    else:\n",
    "        dic_[column] = [unique_]\n",
    "\n",
    "df2 = df1[df1.columns[df1.columns.isin(dic1.keys())==False]].dropna().reset_index(drop = True)\n",
    "\n",
    "from sklearn.preprocessing import MinMaxScaler\n",
    "df2n= df2.copy()\n",
    "for column in df2n.columns[df2n.columns !='y']:\n",
    "    df2n.loc[:, column ] = MinMaxScaler().fit_transform(df2n[column].astype(np.float).values.reshape(-1,1))\n",
    "    \n",
    "running_set = df2n.copy()\n",
    "running_labels = running_set.pop('y')    \n",
    "    \n",
    "new_model = keras.models.load_model('prediction_model.h5')\n",
    "\n",
    "loss, mae, mse = new_model.evaluate(running_set, running_labels, verbose = 0)\n",
    "print(\"Testing set Mean Abs Error: {:5.2f}\".format(mse))\n",
    "\n",
    "predictions = new_model.predict(running_set).flatten()\n",
    "predictions = pd.Series(predictions).to_frame().rename(columns = {0:'predictions'})\n",
    "\n",
    "pd.Series(running_labels).to_frame().merge(predictions, left_index=True, right_index=True).to_csv('predictions.csv', index = False, header = True)\n",
    "\n",
    "end = time()\n",
    "print('End to end, getting the predictions required {} minutes'.format((end - start)/60))"
   ]
  }
 ],
 "metadata": {
  "kernelspec": {
   "display_name": "",
   "name": ""
  },
  "language_info": {
   "codemirror_mode": {
    "name": "ipython",
    "version": 3
   },
   "file_extension": ".py",
   "mimetype": "text/x-python",
   "name": "python",
   "nbconvert_exporter": "python",
   "pygments_lexer": "ipython3",
   "version": "3.7.3"
  }
 },
 "nbformat": 4,
 "nbformat_minor": 2
}
